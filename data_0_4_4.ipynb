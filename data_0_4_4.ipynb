{
 "cells": [
  {
   "cell_type": "markdown",
   "metadata": {},
   "source": [
    "## data preprocessing \n",
    "* 先前以確認且處理過Rick的資料集（英文help與alarm）\n",
    "* other 從yt找了多組的不同場域的聲音和真實人閒聊的影片音訊擷取 隨機採剪而成\n",
    "* 這隻程式碼將進行資料的擴增\n",
    "\n",
    "* This code is mainly based on Rick's fold 1 clean and check his data is okay.\n",
    "* I found some problems in the v1. For example :the raw data is not the real raw, and some audio has a different preprocessing.\n",
    "\n",
    "* We have a new target, so we need to make a new corrected data, and also need to make the automatic flowork data building and analysis. (if have time the EDA is also important)\n",
    "\n",
    "**<font color=#808080> == notes == </font>**\n",
    "\n",
    "| 類別               | 數量 (原始)      | train 數量 (擴增後的訓練集) | val 數量 (未擴增驗證集)(只有padding) | test 數量 (未擴增驗證集)(只有padding)      |\n",
    "|--------------------|----------------|--------------------|----------------------- |----------------------- |\n",
    "| 0: Environment     | 4381           | 8759              | 206                    | 11                    |\n",
    "| 1: en_help         | 140            | 560                | 24                     | 10                     |\n",
    "| 2: ch_help         | 412            | 1648               | 30                     | 10                     |\n",
    "| 3: ja_help         | 79             | 316                | 20                     | 10                     |\n",
    "| 4: tw_help         | 238            | 952                | 26                     | 10                     |\n",
    "| 5: dog             | 517            | 2067               | 35                     | 15                     |\n",
    "| 6: cat             | 219            | 876                | 36                     | 20                     |\n",
    "| 7: flush           | 207            | 828                | 26                     | 10                     |\n",
    "| 8: alarm           | 201            | 804                | 20                     | 4                     |\n",
    "| 9: glass_breaking  | 140            | 560                | 24                     | 10                     |\n"
   ]
  },
  {
   "cell_type": "code",
   "execution_count": 1,
   "metadata": {},
   "outputs": [],
   "source": [
    "DATA_PATH = '/home/sail/sound_project/DATA/using_data_v4/clip_raw'\n",
    "\n",
    "seed = 1123\n",
    "sr = 16000"
   ]
  },
  {
   "cell_type": "code",
   "execution_count": 2,
   "metadata": {},
   "outputs": [],
   "source": [
    "from IPython.display import Audio\n",
    "from pydub import AudioSegment\n",
    "import librosa\n",
    "import librosa.display\n",
    "from scipy.io import wavfile\n",
    "\n",
    "from collections  import Counter\n",
    "import numpy as np\n",
    "import random\n",
    "import os\n",
    "\n",
    "random.seed(seed)"
   ]
  },
  {
   "cell_type": "code",
   "execution_count": null,
   "metadata": {},
   "outputs": [],
   "source": []
  },
  {
   "cell_type": "code",
   "execution_count": 3,
   "metadata": {},
   "outputs": [],
   "source": [
    "class_dict = {\n",
    "                'other':0, 'Environment':0, 'alarm': 8, 'glass_breaking':9,\n",
    "                'en_help': 1, 'ch_help': 2, 'ja_help': 3, 'tw_help': 4, #'hk_help': 5, 'yue_help':6,\n",
    "                'dog':5, 'cat':6, 'flush':7\n",
    "              } \n",
    "\n",
    "clip_type = {'alarm': 'random', 'other': 'random',\n",
    "             'en_help': 'start', 'ch_help': 'start', \n",
    "             'ja_help': 'start', 'tw_help': 'start', \n",
    "             'hk_help': 'start', 'yue_help':'start',\n",
    "             'dog':'start', 'cat':'start', 'flush':'start',\n",
    "             'alarm':'start', 'glass_breaking':'start'\n",
    "             }"
   ]
  },
  {
   "cell_type": "code",
   "execution_count": 4,
   "metadata": {},
   "outputs": [],
   "source": [
    "save_path = '/home/sail/sound_project/DATA/using_data_v4/v4_4_traindata_1s'\n",
    "\n",
    "TEST_path = '/home/sail/sound_project/DATA/using_data_v4/clip_raw/TEST'"
   ]
  },
  {
   "cell_type": "code",
   "execution_count": 5,
   "metadata": {},
   "outputs": [],
   "source": [
    "import os\n",
    "\n",
    "folder_path = f'{save_path}/for_training/train'\n",
    "if not os.path.exists(folder_path):\n",
    "    os.makedirs(folder_path)\n",
    "\n",
    "folder_path = f'{save_path}/for_training/test'\n",
    "if not os.path.exists(folder_path):\n",
    "    os.makedirs(folder_path)\n",
    "\n",
    "folder_path = f'{save_path}/for_training/val'\n",
    "if not os.path.exists(folder_path):\n",
    "    os.makedirs(folder_path)\n",
    "\n",
    "folder_path = f'{save_path}/no_padding_only_clip1s'\n",
    "if not os.path.exists(folder_path):\n",
    "    os.makedirs(folder_path)"
   ]
  },
  {
   "cell_type": "code",
   "execution_count": 6,
   "metadata": {},
   "outputs": [],
   "source": [
    "def load_data(wav_path, sr=sr, type='librosa'):\n",
    "    if type == 'librosa':\n",
    "        return librosa.load(wav_path, sr=sr)[0]\n",
    "    elif type == 'wavfile':\n",
    "        return wavfile.read(wav_path)[1]\n",
    "\n",
    "def clip_1s(audio, sr=sr, type='start'):\n",
    "    if type =='start':\n",
    "        return audio[:sr]\n",
    "    elif type == 'end':\n",
    "        return audio[-sr:]\n",
    "    elif type == 'random':\n",
    "        start = random.randint(0, len(audio) - sr)\n",
    "        return audio[start:start+sr]\n",
    "    else:\n",
    "        # return audio[type:type+sr]\n",
    "        raise ValueError('type must be start, end or random.')\n",
    "    \n",
    "def long_random_clip(audio, sr, count):\n",
    "    audio_list = []\n",
    "    random_time_list = [random.randint(0, len(audio)) for _ in range(count)]\n",
    "    random_time_list = list(dict.fromkeys(random_time_list))\n",
    "    for start in random_time_list:\n",
    "        audio_list.append(audio[start:start+sr])\n",
    "    return audio_list\n",
    "\n",
    "def padding_zero(audio, sr=sr, secent=1, type='a'):\n",
    "    if len(audio) < sr*secent:\n",
    "        if type=='ab':\n",
    "            total_padding = sr*secent - len(audio)\n",
    "            return np.pad(audio, (total_padding // 2, total_padding - (total_padding // 2)), 'constant', constant_values=(0, 0))\n",
    "        elif type=='a':\n",
    "            total_padding = sr*secent - len(audio)\n",
    "            return np.pad(audio, (0, total_padding), 'constant', constant_values=(0, 0))\n",
    "    else:\n",
    "        return clip_1s(audio)\n",
    "    \n",
    "def add_noise(audio, noise_factor=0.0005):\n",
    "    noise = np.random.randn(len(audio))\n",
    "    augmented_audio = audio + noise_factor * noise\n",
    "    return augmented_audio\n",
    "\n",
    "def add_loader(audio, gain = 1.5):\n",
    "    audio = audio * gain\n",
    "    audio = np.clip(audio, -1.0, 1.0)\n",
    "    return audio\n",
    "    "
   ]
  },
  {
   "cell_type": "code",
   "execution_count": 7,
   "metadata": {},
   "outputs": [],
   "source": [
    "def preprocess_audio(audio):\n",
    "    if (audio.shape[0] >= sr) & (audio.shape[0] <= sr*2):\n",
    "        audio_1 = clip_1s(audio, sr=sr, type='start')\n",
    "        audio_2 = clip_1s(audio, sr=sr, type='end')\n",
    "        audio_list = [audio_1, audio_2]\n",
    "    elif (audio.shape[0] > sr*2):\n",
    "        audio_list = long_random_clip(audio, sr,  int(audio.shape[0]/1.5//sr)+1)\n",
    "    else:\n",
    "        audio_list = [audio]\n",
    "    return audio_list\n",
    "\n",
    "def preprocess_audio_not_clip(audio):\n",
    "    if (audio.shape[0] >= sr) & (audio.shape[0] <= sr*2):\n",
    "        audio_1 = clip_1s(audio, sr=sr, type='start')\n",
    "        # audio_2 = clip_1s(audio, sr=sr, type='end')\n",
    "        audio_list = [audio_1]\n",
    "        # audio_list = [audio_1, audio_2]\n",
    "    # elif (audio.shape[0] > sr*2):\n",
    "    #     audio_list = long_random_clip(audio, sr,  int(audio.shape[0]/1.5//sr)+1)\n",
    "    else:\n",
    "        audio_list = [audio]\n",
    "    return audio_list\n"
   ]
  },
  {
   "cell_type": "code",
   "execution_count": 8,
   "metadata": {},
   "outputs": [
    {
     "name": "stdout",
     "output_type": "stream",
     "text": [
      "other_disastermovie_1s\n",
      "other\n",
      "alarm\n",
      "dog\n",
      "cat\n",
      "flush\n",
      "glass_breaking\n",
      "6141 6141\n"
     ]
    }
   ],
   "source": [
    "X, y = [],[]\n",
    "\n",
    "def process_subfolder(subfolder_path, label):\n",
    "    for wav_file in os.listdir(subfolder_path):\n",
    "        if wav_file == 'xx' or wav_file[:2] == 'X_':\n",
    "            continue\n",
    "        wav_file_path = os.path.join(subfolder_path, wav_file)\n",
    "        if wav_file.endswith(('.wav', '.mp3')):\n",
    "            audio = load_data(wav_file_path, sr, type='librosa')\n",
    "            X.extend(preprocess_audio(audio))\n",
    "            y.extend([label]*len(preprocess_audio(audio)))              \n",
    "        else:\n",
    "            process_subfolder(wav_file_path, label)\n",
    "            \n",
    "for file in ['other_disastermovie_1s','other', 'alarm','dog', 'cat', 'flush', 'glass_breaking']:  # ############################################################\n",
    "    print(file)\n",
    "    folder_path = os.path.join(DATA_PATH, file)\n",
    "    for wav_file_0 in os.listdir(folder_path):\n",
    "        if wav_file_0 == 'xx'or wav_file_0[:2] == 'X_':\n",
    "            continue\n",
    "        wav_file_0_path = os.path.join(folder_path, wav_file_0)\n",
    "        # print(wav_file_0_path)\n",
    "        if wav_file_0_path.endswith(('.wav', '.mp3')):\n",
    "            if file == 'other':\n",
    "                audio = load_data(wav_file_0_path, sr, type='librosa')\n",
    "                count = audio.shape[0] // sr // 10\n",
    "                evn_audio = long_random_clip(audio, sr, count)\n",
    "                X.extend(evn_audio)\n",
    "                y.extend([class_dict[file]]*len(evn_audio))\n",
    "            elif file == 'other_disastermovie_1s':\n",
    "                audio = load_data(wav_file_0_path, sr, type='librosa')\n",
    "                X.extend([audio])\n",
    "                y.extend([class_dict['other']])\n",
    "                # print(audio.shape)\n",
    "\n",
    "            elif (wav_file_0.endswith(('.wav', '.mp3'))) and (file == 'help_data' or file == 'dog' or file == 'cat' or file == 'flush'or file == 'glass_breaking'):# ############################################################\n",
    "                audio = load_data(wav_file_0_path, sr, type='librosa')\n",
    "                X.extend(preprocess_audio_not_clip(audio))\n",
    "                y.extend([class_dict[file]]*len(preprocess_audio_not_clip(audio)))\n",
    "            elif file == 'alarm':\n",
    "                audio = load_data(wav_file_0_path, sr, type='librosa')\n",
    "                X.extend(preprocess_audio(audio))\n",
    "                y.extend([class_dict[file]]*len(preprocess_audio(audio)))\n",
    "        else:\n",
    "            process_subfolder(wav_file_0_path, class_dict[wav_file_0])\n",
    "            print(\"！！檢查子路徑！！\")\n",
    "\n",
    "\n",
    "HELP_DATA_PATH = '/home/sail/sound_project/DATA/using_data_v4/clip_raw/help_data/'\n",
    "for file in ['en_help', 'ch_help', 'ja_help', 'tw_help']: #, 'hk_help': 5, 'yue_help':6,]:  \n",
    "    folder_path = os.path.join(HELP_DATA_PATH, file)\n",
    "\n",
    "    for wav_file_0 in os.listdir(folder_path):\n",
    "        wav_file_0_path = os.path.join(folder_path,wav_file_0)\n",
    "        for wav_file_1 in os.listdir(wav_file_0_path):\n",
    "            if wav_file_0 == 'xx'or wav_file_0[:2] == 'X_' or wav_file_1 == 'xx'or wav_file_1[:2] == 'X_':\n",
    "                continue\n",
    "            else:\n",
    "                wav_file_1_path = os.path.join(folder_path, wav_file_0, wav_file_1)\n",
    "                audio = load_data(wav_file_1_path, sr, type='librosa')\n",
    "                X.extend(preprocess_audio_not_clip(audio))\n",
    "                y.extend([class_dict[file]]*len(preprocess_audio_not_clip(audio)))\n",
    "\n",
    "print(len(X), len(y))            \n"
   ]
  },
  {
   "cell_type": "code",
   "execution_count": 9,
   "metadata": {},
   "outputs": [
    {
     "data": {
      "text/plain": [
       "Counter({0: 3988,\n",
       "         5: 517,\n",
       "         2: 412,\n",
       "         4: 238,\n",
       "         6: 219,\n",
       "         7: 207,\n",
       "         8: 201,\n",
       "         9: 140,\n",
       "         1: 140,\n",
       "         3: 79})"
      ]
     },
     "execution_count": 9,
     "metadata": {},
     "output_type": "execute_result"
    }
   ],
   "source": [
    "Counter(y) # 7585 7585\n"
   ]
  },
  {
   "cell_type": "code",
   "execution_count": null,
   "metadata": {},
   "outputs": [],
   "source": []
  },
  {
   "cell_type": "code",
   "execution_count": 10,
   "metadata": {},
   "outputs": [],
   "source": [
    "# # save the data for processing in the feature\n",
    "\n",
    "for c,i in enumerate(y):\n",
    "    wavfile.write(f'{save_path}/no_padding_only_clip1s/{[key for key, value in class_dict.items() if value == i][0]}_{Counter(y[:c])[i]}.wav', sr, X[c])\n"
   ]
  },
  {
   "cell_type": "code",
   "execution_count": 11,
   "metadata": {},
   "outputs": [],
   "source": [
    "val_list = ['_1.wav', '_15.wav', '_161.wav', '_136.wav', '_280.wav', '_80.wav', '_60.wav', '_255.wav', '_44.wav', '_73.wav']\n",
    "TEST_other_list = ['_1111.wav', '_1500.wav', '_1800.wav', '_1943.wav', '_2765.wav', '_5475.wav', '_3464.wav', '_4545.wav', '_2245.wav', '_3344.wav', '_4599.wav']"
   ]
  },
  {
   "cell_type": "code",
   "execution_count": 12,
   "metadata": {},
   "outputs": [],
   "source": [
    "for i, audio_path in enumerate(os.listdir(os.path.join(save_path, 'no_padding_only_clip1s'))):\n",
    "    audio_a = padding_zero(load_data(os.path.join(save_path, 'no_padding_only_clip1s', audio_path), sr, type='librosa'), secent=1, type='a')\n",
    "    audio_ab = padding_zero(load_data(os.path.join(save_path, 'no_padding_only_clip1s', audio_path), sr, type='librosa'), secent=1, type='ab')\n",
    "\n",
    "    # 先處理其他\n",
    "    if ('other_' in audio_path):\n",
    "\n",
    "        for test_name in TEST_other_list:\n",
    "            if test_name in audio_path:\n",
    "                wavfile.write(f'{TEST_path}/other/{audio_path[:-4]}_padA.wav', sr, audio_a)\n",
    "\n",
    "        TF = False\n",
    "        for _ in range(100):\n",
    "            num, A_AB = random.randint(0, Counter(y)[0]), random.randint(1, 2)\n",
    "\n",
    "            val_name_ = f'_{num}.wav'\n",
    "            if val_name_ in audio_path:\n",
    "                TF = True                \n",
    "\n",
    "            if TF:\n",
    "                if A_AB == 1: \n",
    "                    wavfile.write(f'{save_path}/for_training/val/{audio_path[:-4]}_padA.wav', sr, audio_a)\n",
    "                elif A_AB == 2:\n",
    "                    wavfile.write(f'{save_path}/for_training/val/{audio_path[:-4]}_padAB.wav', sr, audio_ab)\n",
    "            else:\n",
    "                if A_AB == 1: \n",
    "                    wavfile.write(f'{save_path}/for_training/train/{audio_path[:-4]}_padA.wav', sr, audio_a)\n",
    "                elif A_AB == 2:\n",
    "                    wavfile.write(f'{save_path}/for_training/train/{audio_path[:-4]}_padAB.wav', sr, audio_ab)\n",
    "\n",
    "\n",
    "    else:\n",
    "        # 先分出驗證集\n",
    "        for val_name in val_list:\n",
    "            A_AB = random.randint(1, 2)\n",
    "            if val_name in audio_path:\n",
    "                wavfile.write(f'{save_path}/for_training/val/{audio_path[:-4]}_padA.wav', sr, audio_a)\n",
    "                wavfile.write(f'{save_path}/for_training/val/{audio_path[:-4]}_padAB.wav', sr, audio_ab)\n",
    "            else:\n",
    "                if A_AB == 1: \n",
    "                    wavfile.write(f'{save_path}/for_training/train/{audio_path[:-4]}_padA.wav', sr, audio_a)\n",
    "                elif A_AB == 2:\n",
    "                    wavfile.write(f'{save_path}/for_training/train/{audio_path[:-4]}_padAB.wav', sr, audio_ab)     \n",
    "\n",
    "    if ('other_' not in audio_path):\n",
    "        A_AB = random.randint(1, 2)\n",
    "        audio_no = add_noise(load_data(os.path.join(save_path, 'no_padding_only_clip1s', audio_path), sr, type='librosa'))\n",
    "        audio_no_a = padding_zero(audio_no, secent=1, type='a')\n",
    "        audio_no_ab = padding_zero(audio_no, secent=1, type='ab')\n",
    "\n",
    "        audio_lo = add_loader(load_data(os.path.join(save_path, 'no_padding_only_clip1s', audio_path), sr, type='librosa'))\n",
    "        audio_lo_a = padding_zero(audio_lo, secent=1, type='a')\n",
    "        audio_lo_ab = padding_zero(audio_lo, secent=1, type='ab')\n",
    "\n",
    "        if A_AB == 1: \n",
    "            wavfile.write(f'{save_path}/for_training/train/{audio_path[:-4]}_no_padA.wav', sr, audio_no_a)\n",
    "            wavfile.write(f'{save_path}/for_training/train/{audio_path[:-4]}_lo_padA.wav', sr, audio_lo_a)\n",
    "        elif A_AB == 2:\n",
    "            wavfile.write(f'{save_path}/for_training/train/{audio_path[:-4]}_no_padAB.wav', sr, audio_no_ab)\n",
    "            wavfile.write(f'{save_path}/for_training/train/{audio_path[:-4]}_lo_padAB.wav', sr, audio_lo_ab)\n"
   ]
  },
  {
   "cell_type": "code",
   "execution_count": null,
   "metadata": {},
   "outputs": [],
   "source": []
  },
  {
   "cell_type": "code",
   "execution_count": 13,
   "metadata": {},
   "outputs": [],
   "source": [
    "for wav_file in os.listdir(TEST_path):\n",
    "    for i, aud_name in enumerate(os.listdir(os.path.join(TEST_path, wav_file))):\n",
    "        audio = padding_zero(clip_1s(load_data(os.path.join(TEST_path, wav_file,aud_name))), secent=1, type='ab')\n",
    "        if wav_file[:2] != 'X_':\n",
    "            wavfile.write(f'{save_path}/for_training/val/{wav_file}_TEST_{i}.wav', sr, audio)\n",
    "            wavfile.write(f'{save_path}/for_training/test/{wav_file}_TEST_{i}.wav', sr, audio)"
   ]
  },
  {
   "cell_type": "code",
   "execution_count": 14,
   "metadata": {},
   "outputs": [
    {
     "name": "stdout",
     "output_type": "stream",
     "text": [
      "val\n",
      "train\n",
      "test\n",
      "16583 16583 438 438 110 110\n"
     ]
    }
   ],
   "source": [
    "# save npz\n",
    "\n",
    "sounds_train, sounds_test, sounds_val = [], [], []\n",
    "labels_train, labels_test, labels_val = [], [], []\n",
    "\n",
    "for file in os.listdir(os.path.join(save_path, 'for_training')):\n",
    "    print(file)\n",
    "    for wav_path in os.listdir(os.path.join(save_path, 'for_training',file)):\n",
    "        path = os.path.join(save_path, 'for_training',file, wav_path)\n",
    "        wav = load_data(path, sr, type='librosa')\n",
    "        if file == 'train':\n",
    "            sounds_train.append(wav)\n",
    "            try:\n",
    "                labels_train.append(class_dict[wav_path.split('_')[0]])\n",
    "            except Exception as e:\n",
    "                labels_train.append(class_dict[wav_path.split('_')[0]+'_'+wav_path.split('_')[1]])            \n",
    "\n",
    "        elif file == 'val':\n",
    "            sounds_val.append(wav)\n",
    "            try:\n",
    "                labels_val.append(class_dict[wav_path.split('_')[0]])\n",
    "            except Exception as e:\n",
    "                labels_val.append(class_dict[wav_path.split('_')[0]+'_'+wav_path.split('_')[1]])\n",
    "\n",
    "        elif file == 'test':\n",
    "            sounds_test.append(wav)\n",
    "            try:\n",
    "                labels_test.append(class_dict[wav_path.split('_')[0]])\n",
    "            except Exception as e:\n",
    "                labels_test.append(class_dict[wav_path.split('_')[0]+'_'+wav_path.split('_')[1]])            \n",
    "\n",
    "\n",
    "print(len(sounds_train), len(labels_train), len(sounds_val), len(labels_val), len(sounds_test), len(labels_test))\n"
   ]
  },
  {
   "cell_type": "code",
   "execution_count": 15,
   "metadata": {},
   "outputs": [
    {
     "ename": "SyntaxError",
     "evalue": "invalid syntax (1566311223.py, line 4)",
     "output_type": "error",
     "traceback": [
      "\u001b[0;36m  Cell \u001b[0;32mIn[15], line 4\u001b[0;36m\u001b[0m\n\u001b[0;31m    17370 17370 447 447 110 110\u001b[0m\n\u001b[0m          ^\u001b[0m\n\u001b[0;31mSyntaxError\u001b[0m\u001b[0;31m:\u001b[0m invalid syntax\n"
     ]
    }
   ],
   "source": [
    "val\n",
    "train\n",
    "test\n",
    "17370 17370 447 447 110 110"
   ]
  },
  {
   "cell_type": "code",
   "execution_count": 16,
   "metadata": {},
   "outputs": [],
   "source": [
    "# np.savez(r'/home/sail/sound_project/DATA/using_data_v4/data_v4_4.npz', sounds_train=sounds_train, labels_train=labels_train, sounds_val=sounds_val, \n",
    "#          labels_val=labels_val, sounds_test=sounds_test, labels_test=labels_test)"
   ]
  },
  {
   "cell_type": "code",
   "execution_count": 17,
   "metadata": {},
   "outputs": [],
   "source": [
    "data = np.load('/home/sail/sound_project/DATA/using_data_v4/data_v4_4.npz', allow_pickle=True) "
   ]
  },
  {
   "cell_type": "code",
   "execution_count": 18,
   "metadata": {},
   "outputs": [],
   "source": [
    "labels_val = data['labels_val']\n",
    "labels_train = data['labels_train']\n",
    "labels_test = data['labels_test']"
   ]
  },
  {
   "cell_type": "code",
   "execution_count": 19,
   "metadata": {},
   "outputs": [
    {
     "data": {
      "text/plain": [
       "Counter({0: 197,\n",
       "         6: 36,\n",
       "         5: 35,\n",
       "         2: 30,\n",
       "         4: 26,\n",
       "         7: 26,\n",
       "         1: 24,\n",
       "         9: 24,\n",
       "         3: 20,\n",
       "         8: 20})"
      ]
     },
     "execution_count": 19,
     "metadata": {},
     "output_type": "execute_result"
    }
   ],
   "source": [
    "Counter(labels_val)"
   ]
  },
  {
   "cell_type": "code",
   "execution_count": 20,
   "metadata": {},
   "outputs": [
    {
     "data": {
      "text/plain": [
       "Counter({0: 7973,\n",
       "         5: 2068,\n",
       "         2: 1648,\n",
       "         4: 952,\n",
       "         6: 876,\n",
       "         7: 828,\n",
       "         8: 804,\n",
       "         1: 559,\n",
       "         9: 559,\n",
       "         3: 316})"
      ]
     },
     "execution_count": 20,
     "metadata": {},
     "output_type": "execute_result"
    }
   ],
   "source": [
    "Counter(labels_train)\n"
   ]
  },
  {
   "cell_type": "code",
   "execution_count": 21,
   "metadata": {},
   "outputs": [
    {
     "data": {
      "text/plain": [
       "Counter({6: 20, 5: 15, 0: 11, 2: 10, 4: 10, 7: 10, 1: 10, 9: 10, 3: 10, 8: 4})"
      ]
     },
     "execution_count": 21,
     "metadata": {},
     "output_type": "execute_result"
    }
   ],
   "source": [
    "Counter(labels_test)\n"
   ]
  },
  {
   "cell_type": "code",
   "execution_count": 22,
   "metadata": {},
   "outputs": [
    {
     "data": {
      "text/plain": [
       "(1.7263024, -1.5727631)"
      ]
     },
     "execution_count": 22,
     "metadata": {},
     "output_type": "execute_result"
    }
   ],
   "source": [
    "max(np.concatenate(sounds_train)), min(np.concatenate(sounds_train))"
   ]
  },
  {
   "cell_type": "markdown",
   "metadata": {},
   "source": [
    "# other test"
   ]
  },
  {
   "cell_type": "code",
   "execution_count": null,
   "metadata": {},
   "outputs": [],
   "source": [
    "# Audio(np.concatenate(X),rate=sr)"
   ]
  }
 ],
 "metadata": {
  "kernelspec": {
   "display_name": ".venv",
   "language": "python",
   "name": "python3"
  },
  "language_info": {
   "codemirror_mode": {
    "name": "ipython",
    "version": 3
   },
   "file_extension": ".py",
   "mimetype": "text/x-python",
   "name": "python",
   "nbconvert_exporter": "python",
   "pygments_lexer": "ipython3",
   "version": "3.10.12"
  }
 },
 "nbformat": 4,
 "nbformat_minor": 2
}
